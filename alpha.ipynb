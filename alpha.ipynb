{
 "cells": [
  {
   "cell_type": "code",
   "execution_count": 1,
   "id": "4c7499a0",
   "metadata": {
    "_cell_guid": "b1076dfc-b9ad-4769-8c92-a6c4dae69d19",
    "_uuid": "8f2839f25d086af736a60e9eeb907d3b93b6e0e5",
    "execution": {
     "iopub.execute_input": "2025-02-19T08:09:58.789840Z",
     "iopub.status.busy": "2025-02-19T08:09:58.789371Z",
     "iopub.status.idle": "2025-02-19T08:09:59.766209Z",
     "shell.execute_reply": "2025-02-19T08:09:59.764644Z"
    },
    "papermill": {
     "duration": 0.982615,
     "end_time": "2025-02-19T08:09:59.768417",
     "exception": false,
     "start_time": "2025-02-19T08:09:58.785802",
     "status": "completed"
    },
    "tags": []
   },
   "outputs": [],
   "source": [
    "# This Python 3 environment comes with many helpful analytics libraries installed\n",
    "# It is defined by the kaggle/python Docker image: https://github.com/kaggle/docker-python\n",
    "# For example, here's several helpful packages to load\n",
    "\n",
    "import numpy as np # linear algebra\n",
    "import pandas as pd # data processing, CSV file I/O (e.g. pd.read_csv)\n",
    "\n",
    "# Input data files are available in the read-only \"../input/\" directory\n",
    "# For example, running this (by clicking run or pressing Shift+Enter) will list all files under the input directory\n",
    "\n",
    "import os\n",
    "for dirname, _, filenames in os.walk('/kaggle/input'):\n",
    "    for filename in filenames:\n",
    "        print(os.path.join(dirname, filename))\n",
    "\n",
    "# You can write up to 20GB to the current directory (/kaggle/working/) that gets preserved as output when you create a version using \"Save & Run All\" \n",
    "# You can also write temporary files to /kaggle/temp/, but they won't be saved outside of the current session"
   ]
  },
  {
   "cell_type": "code",
   "execution_count": 2,
   "id": "773d5bae",
   "metadata": {
    "execution": {
     "iopub.execute_input": "2025-02-19T08:09:59.773723Z",
     "iopub.status.busy": "2025-02-19T08:09:59.773241Z",
     "iopub.status.idle": "2025-02-19T08:10:17.643780Z",
     "shell.execute_reply": "2025-02-19T08:10:17.642512Z"
    },
    "papermill": {
     "duration": 17.875102,
     "end_time": "2025-02-19T08:10:17.645779",
     "exception": false,
     "start_time": "2025-02-19T08:09:59.770677",
     "status": "completed"
    },
    "tags": []
   },
   "outputs": [
    {
     "name": "stdout",
     "output_type": "stream",
     "text": [
      "Downloading data from https://storage.googleapis.com/keras-applications/efficientnetb0_notop.h5\n",
      "\u001b[1m16705208/16705208\u001b[0m \u001b[32m━━━━━━━━━━━━━━━━━━━━\u001b[0m\u001b[37m\u001b[0m \u001b[1m0s\u001b[0m 0us/step\n"
     ]
    }
   ],
   "source": [
    "import tensorflow as tf\n",
    "from tensorflow.keras.applications import EfficientNetB0\n",
    "\n",
    "# Load the pretrained EfficientNetB0 model without the top classification layer\n",
    "model = EfficientNetB0(weights='imagenet', include_top=False, input_shape=(224,224,3))\n"
   ]
  },
  {
   "cell_type": "code",
   "execution_count": null,
   "id": "2498b50f",
   "metadata": {
    "papermill": {
     "duration": 0.001792,
     "end_time": "2025-02-19T08:10:17.649863",
     "exception": false,
     "start_time": "2025-02-19T08:10:17.648071",
     "status": "completed"
    },
    "tags": []
   },
   "outputs": [],
   "source": []
  }
 ],
 "metadata": {
  "kaggle": {
   "accelerator": "none",
   "dataSources": [],
   "dockerImageVersionId": 30886,
   "isGpuEnabled": false,
   "isInternetEnabled": true,
   "language": "python",
   "sourceType": "notebook"
  },
  "kernelspec": {
   "display_name": "Python 3",
   "language": "python",
   "name": "python3"
  },
  "language_info": {
   "codemirror_mode": {
    "name": "ipython",
    "version": 3
   },
   "file_extension": ".py",
   "mimetype": "text/x-python",
   "name": "python",
   "nbconvert_exporter": "python",
   "pygments_lexer": "ipython3",
   "version": "3.10.12"
  },
  "papermill": {
   "default_parameters": {},
   "duration": 23.197595,
   "end_time": "2025-02-19T08:10:19.175466",
   "environment_variables": {},
   "exception": null,
   "input_path": "__notebook__.ipynb",
   "output_path": "__notebook__.ipynb",
   "parameters": {},
   "start_time": "2025-02-19T08:09:55.977871",
   "version": "2.6.0"
  }
 },
 "nbformat": 4,
 "nbformat_minor": 5
}
